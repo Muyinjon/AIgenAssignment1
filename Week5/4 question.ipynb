{
 "cells": [
  {
   "cell_type": "code",
   "execution_count": null,
   "id": "cb335102-551e-463a-827d-5884139ac067",
   "metadata": {},
   "outputs": [],
   "source": [
    "'''1. You have the following data in a DataFrame named df:\n",
    "\n",
    "import pandas as pd\n",
    "data = {'Year': [2015, 2016, 2017, 2018, 2019], 'Sales': [200, 210, 220, 215, 225]}\n",
    "df = pd.DataFrame(data)\n",
    "Which command will plot Year on the x-axis and Sales on the y-axis using Matplotlib?\n",
    "2.Combining Datasets:\n",
    "Given two DataFrames:\n",
    "\n",
    "df1 = pd.DataFrame({'A': ['A0', 'A1', 'A2'], 'B': ['B0', 'B1', 'B2'], 'key': ['K0', 'K1', 'K2']})\n",
    "df2 = pd.DataFrame({'C': ['C0', 'C1', 'C2'], 'D': ['D0', 'D1', 'D2']})\n",
    "Which command will concatenate the two DataFrames horizontally?\n",
    "3. NumPy Statistical Functions:\n",
    "Given a NumPy array arr = np.array([1, 5, 3, 9, 7]), which command calculates the median of the array?\n",
    "4.DataFrame Creation:\n",
    "Given the following list of data:\n",
    "\n",
    "\n",
    "data = [['Alex', 10], ['Ron', 15], ['Tom', 14]]\n",
    "Which commands will correctly convert it into a Pandas DataFrame with columns Name and Age?'''\n",
    "\n",
    "\n",
    "\n"
   ]
  },
  {
   "cell_type": "code",
   "execution_count": 22,
   "id": "25c2fb7a-c5a7-476f-b51a-cee50c64d1fb",
   "metadata": {},
   "outputs": [],
   "source": [
    "import pandas as pd\n",
    "import matplotlib.pyplot as plt\n",
    "import numpy as np\n"
   ]
  },
  {
   "cell_type": "code",
   "execution_count": 13,
   "id": "e6e78c71-f4bf-450d-99c7-65f07d319d78",
   "metadata": {},
   "outputs": [],
   "source": [
    "data = {'Year': [2015, 2016, 2017, 2018, 2019], 'Sales': [200, 210, 220, 215, 225]}\n",
    "df = pd.DataFrame(data)"
   ]
  },
  {
   "cell_type": "code",
   "execution_count": 26,
   "id": "fd60f544-1435-483b-9a6e-c56535aae05b",
   "metadata": {},
   "outputs": [
    {
     "data": {
      "text/plain": [
       "<Axes: xlabel='Year'>"
      ]
     },
     "execution_count": 26,
     "metadata": {},
     "output_type": "execute_result"
    },
    {
     "data": {
      "image/png": "[encoded data removed]",
      "text/plain": [
       "<Figure size 640x480 with 1 Axes>"
      ]
     },
     "metadata": {},
     "output_type": "display_data"
    }
   ],
   "source": [
    "df.plot(kind = 'line', x = 'Year', y = 'Sales')"
   ]
  },
  {
   "cell_type": "code",
   "execution_count": 20,
   "id": "a58f8885-4990-4793-af22-d4cdf30420a2",
   "metadata": {},
   "outputs": [
    {
     "data": {
      "text/html": [
       "<div>\n",
       "<style scoped>\n",
       "    .dataframe tbody tr th:only-of-type {\n",
       "        vertical-align: middle;\n",
       "    }\n",
       "\n",
       "    .dataframe tbody tr th {\n",
       "        vertical-align: top;\n",
       "    }\n",
       "\n",
       "    .dataframe thead th {\n",
       "        text-align: right;\n",
       "    }\n",
       "</style>\n",
       "<table border=\"1\" class=\"dataframe\">\n",
       "  <thead>\n",
       "    <tr style=\"text-align: right;\">\n",
       "      <th></th>\n",
       "      <th>A</th>\n",
       "      <th>B</th>\n",
       "      <th>key</th>\n",
       "      <th>C</th>\n",
       "      <th>D</th>\n",
       "    </tr>\n",
       "  </thead>\n",
       "  <tbody>\n",
       "    <tr>\n",
       "      <th>0</th>\n",
       "      <td>A0</td>\n",
       "      <td>B0</td>\n",
       "      <td>K0</td>\n",
       "      <td>C0</td>\n",
       "      <td>D0</td>\n",
       "    </tr>\n",
       "    <tr>\n",
       "      <th>1</th>\n",
       "      <td>A1</td>\n",
       "      <td>B1</td>\n",
       "      <td>K1</td>\n",
       "      <td>C1</td>\n",
       "      <td>D1</td>\n",
       "    </tr>\n",
       "    <tr>\n",
       "      <th>2</th>\n",
       "      <td>A2</td>\n",
       "      <td>B2</td>\n",
       "      <td>K2</td>\n",
       "      <td>C2</td>\n",
       "      <td>D2</td>\n",
       "    </tr>\n",
       "  </tbody>\n",
       "</table>\n",
       "</div>"
      ],
      "text/plain": [
       "    A   B key   C   D\n",
       "0  A0  B0  K0  C0  D0\n",
       "1  A1  B1  K1  C1  D1\n",
       "2  A2  B2  K2  C2  D2"
      ]
     },
     "execution_count": 20,
     "metadata": {},
     "output_type": "execute_result"
    }
   ],
   "source": [
    "df1 = pd.DataFrame({'A': ['A0', 'A1', 'A2'], 'B': ['B0', 'B1', 'B2'], 'key': ['K0', 'K1', 'K2']})\n",
    "df2 = pd.DataFrame({'C': ['C0', 'C1', 'C2'], 'D': ['D0', 'D1', 'D2']})\n",
    "pd.concat([df1, df2], axis=1)"
   ]
  },
  {
   "cell_type": "code",
   "execution_count": 25,
   "id": "ab471026-8ec6-4bc8-9300-11c265f73961",
   "metadata": {},
   "outputs": [
    {
     "name": "stdout",
     "output_type": "stream",
     "text": [
      "5.0\n"
     ]
    }
   ],
   "source": [
    "arr = np.array([1, 5, 3, 9, 7])\n",
    "mean = np.mean(arr)\n",
    "print(mean)"
   ]
  },
  {
   "cell_type": "code",
   "execution_count": 43,
   "id": "fe1f3a77-9f3e-45fa-85de-992f08c8457a",
   "metadata": {},
   "outputs": [
    {
     "name": "stdout",
     "output_type": "stream",
     "text": [
      "   name  age\n",
      "0  Alex   10\n",
      "1   Ron   15\n",
      "2   Tom   14\n"
     ]
    }
   ],
   "source": [
    "dataname = [['Alex', 10], ['Ron', 15], ['Tom', 14]]\n",
    "\n",
    "# Create a DataFrame from the data\n",
    "df = pd.DataFrame(dataname)\n",
    "\n",
    "# Rename the columns\n",
    "df.columns = ['name', 'age']\n",
    "\n",
    "# Now, your DataFrame will have the desired column names\n",
    "print(df)"
   ]
  },
  {
   "cell_type": "code",
   "execution_count": null,
   "id": "33201698-483a-4b1a-ab7a-89e31f15fe96",
   "metadata": {},
   "outputs": [],
   "source": []
  }
 ],
 "metadata": {
  "kernelspec": {
   "display_name": "Python 3 (ipykernel)",
   "language": "python",
   "name": "python3"
  },
  "language_info": {
   "codemirror_mode": {
    "name": "ipython",
    "version": 3
   },
   "file_extension": ".py",
   "mimetype": "text/x-python",
   "name": "python",
   "nbconvert_exporter": "python",
   "pygments_lexer": "ipython3",
   "version": "3.11.5"
  }
 },
 "nbformat": 4,
 "nbformat_minor": 5
}
